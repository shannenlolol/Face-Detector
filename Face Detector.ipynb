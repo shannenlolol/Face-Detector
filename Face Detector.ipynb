{
 "cells": [
  {
   "cell_type": "markdown",
   "metadata": {},
   "source": [
    "# Face Detector"
   ]
  },
  {
   "cell_type": "markdown",
   "metadata": {},
   "source": [
    "## How does it work?\n",
    "\n",
    "\n",
    "### First, use a pre-trained classifier from OpenCV that has the chain of haar features that best matches a frontal face. \n",
    "\n",
    "### Then, pass the image/frames into the classifier, letting it run through all of the haar cascades (in the XML). \n",
    "\n",
    "### If it successfully run throughs all, it will detect a face! :D\n"
   ]
  },
  {
   "cell_type": "code",
   "execution_count": null,
   "metadata": {
    "scrolled": true
   },
   "outputs": [],
   "source": [
    "!pip3 install opencv-python"
   ]
  },
  {
   "cell_type": "markdown",
   "metadata": {},
   "source": [
    "# Detecting faces on an image"
   ]
  },
  {
   "cell_type": "code",
   "execution_count": null,
   "metadata": {},
   "outputs": [],
   "source": [
    "import cv2\n",
    "\n",
    "trained_face_data= cv2.CascadeClassifier('haarcascade_frontalface_default.xml')\n",
    "\n",
    "img= cv2.imread('MarkLee.jpg')\n",
    "\n",
    "#Convert to greyscale\n",
    "greyscaled_img= cv2.cvtColor(img, cv2.COLOR_BGR2GRAY)\n",
    "\n",
    "#Detect faces, gives coordinates of faces\n",
    "face_coordinates= trained_face_data.detectMultiScale(greyscaled_img)\n",
    "\n",
    "print(face_coordinates)\n",
    "\n",
    "#Draw rectangles around the faces\n",
    "for (x,y,w,h) in face_coordinates:\n",
    "    cv2.rectangle(img,(x,y),(x+w,y+h),(0,255,0),2)\n",
    "    \n",
    "    \n",
    "cv2.imshow('Face Detector', img)\n",
    "cv2.waitKey()"
   ]
  },
  {
   "cell_type": "markdown",
   "metadata": {},
   "source": [
    "# Detecting faces using Webcam"
   ]
  },
  {
   "cell_type": "code",
   "execution_count": null,
   "metadata": {},
   "outputs": [],
   "source": [
    "import cv2\n",
    "\n",
    "trained_face_data= cv2.CascadeClassifier('haarcascade_frontalface_default.xml')\n",
    "\n",
    "webcam =cv2.VideoCapture(0)\n",
    "\n",
    "\n",
    "while True:\n",
    "    successful_frame_read, frame= webcam.read()\n",
    "    \n",
    "    #Convert each frame to greyscale\n",
    "    greyscaled_img= cv2.cvtColor(frame, cv2.COLOR_BGR2GRAY)\n",
    "    \n",
    "    face_coordinates= trained_face_data.detectMultiScale(greyscaled_img)\n",
    "    \n",
    "    for (x,y,w,h) in face_coordinates:\n",
    "        cv2.rectangle(frame,(x,y),(x+w,y+h),(0,255,0),2)\n",
    "\n",
    "    cv2.imshow('Webcam Face Detector', frame)\n",
    "    cv2.waitKey(1)\n",
    "    \n",
    "    #Quit the program by entering 'q'\n",
    "    if key==81:\n",
    "        break"
   ]
  },
  {
   "cell_type": "code",
   "execution_count": null,
   "metadata": {},
   "outputs": [],
   "source": []
  }
 ],
 "metadata": {
  "kernelspec": {
   "display_name": "Python 3",
   "language": "python",
   "name": "python3"
  },
  "language_info": {
   "codemirror_mode": {
    "name": "ipython",
    "version": 3
   },
   "file_extension": ".py",
   "mimetype": "text/x-python",
   "name": "python",
   "nbconvert_exporter": "python",
   "pygments_lexer": "ipython3",
   "version": "3.8.5"
  }
 },
 "nbformat": 4,
 "nbformat_minor": 4
}
